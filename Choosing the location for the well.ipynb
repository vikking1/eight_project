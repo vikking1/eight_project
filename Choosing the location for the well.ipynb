{
 "cells": [
  {
   "cell_type": "markdown",
   "metadata": {},
   "source": [
    "# Выбор локации для скважины"
   ]
  },
  {
   "cell_type": "markdown",
   "metadata": {},
   "source": [
    "Допустим, вы работаете в добывающей компании «ГлавРосГосНефть». Нужно решить, где бурить новую скважину.\n",
    "\n",
    "Вам предоставлены пробы нефти в трёх регионах: в каждом 10 000 месторождений, где измерили качество нефти и объём её запасов. Постройте модель машинного обучения, которая поможет определить регион, где добыча принесёт наибольшую прибыль. Проанализируйте возможную прибыль и риски техникой *Bootstrap.*\n",
    "\n",
    "Шаги для выбора локации:\n",
    "\n",
    "- В избранном регионе ищут месторождения, для каждого определяют значения признаков;\n",
    "- Строят модель и оценивают объём запасов;\n",
    "- Выбирают месторождения с самым высокими оценками значений. Количество месторождений зависит от бюджета компании и стоимости разработки одной скважины;\n",
    "- Прибыль равна суммарной прибыли отобранных месторождений."
   ]
  },
  {
   "cell_type": "markdown",
   "metadata": {},
   "source": [
    "## Загрузка и подготовка данных"
   ]
  },
  {
   "cell_type": "code",
   "execution_count": 1,
   "metadata": {},
   "outputs": [],
   "source": [
    "import pandas as pd\n",
    "import os\n",
    "from sklearn.linear_model import LinearRegression\n",
    "from sklearn.model_selection import train_test_split\n",
    "from sklearn.metrics import mean_squared_error\n",
    "from numpy.random import RandomState\n",
    "from scipy.stats import percentileofscore"
   ]
  },
  {
   "cell_type": "code",
   "execution_count": 2,
   "metadata": {},
   "outputs": [],
   "source": [
    "way_1 = '/datasets/geo_data_0.csv'\n",
    "way_2 = 'geo_data_0.csv'\n",
    "\n",
    "if os.path.exists(way_1):\n",
    "    df_geo_0 = pd.read_csv(way_1)\n",
    "elif os.path.exists(way_2):\n",
    "    df_geo_0 = pd.read_csv(way_2)\n",
    "else:\n",
    "    print('there is no file in this path geo_0')"
   ]
  },
  {
   "cell_type": "code",
   "execution_count": 3,
   "metadata": {},
   "outputs": [],
   "source": [
    "way_1 = '/datasets/geo_data_1.csv'\n",
    "way_2 = 'geo_data_1.csv'\n",
    "\n",
    "if os.path.exists(way_1):\n",
    "    df_geo_1 = pd.read_csv(way_1)\n",
    "elif os.path.exists(way_2):\n",
    "    df_geo_1 = pd.read_csv(way_2)\n",
    "else:\n",
    "    print('there is no file in this path geo_1')"
   ]
  },
  {
   "cell_type": "code",
   "execution_count": 4,
   "metadata": {},
   "outputs": [],
   "source": [
    "way_1 = '/datasets/geo_data_2.csv'\n",
    "way_2 = 'geo_data_2.csv'\n",
    "\n",
    "if os.path.exists(way_1):\n",
    "    df_geo_2 = pd.read_csv(way_1)\n",
    "elif os.path.exists(way_2):\n",
    "    df_geo_2 = pd.read_csv(way_2)\n",
    "else:\n",
    "    print('there is no file in this path geo_2')"
   ]
  },
  {
   "cell_type": "code",
   "execution_count": 5,
   "metadata": {
    "scrolled": false
   },
   "outputs": [
    {
     "name": "stdout",
     "output_type": "stream",
     "text": [
      "Первая локация\n",
      "<class 'pandas.core.frame.DataFrame'>\n",
      "RangeIndex: 100000 entries, 0 to 99999\n",
      "Data columns (total 5 columns):\n",
      " #   Column   Non-Null Count   Dtype  \n",
      "---  ------   --------------   -----  \n",
      " 0   id       100000 non-null  object \n",
      " 1   f0       100000 non-null  float64\n",
      " 2   f1       100000 non-null  float64\n",
      " 3   f2       100000 non-null  float64\n",
      " 4   product  100000 non-null  float64\n",
      "dtypes: float64(4), object(1)\n",
      "memory usage: 3.8+ MB\n",
      "      id        f0        f1        f2     product\n",
      "0  txEyH  0.705745 -0.497823  1.221170  105.280062\n",
      "1  2acmU  1.334711 -0.340164  4.365080   73.037750\n",
      "2  409Wp  1.022732  0.151990  1.419926   85.265647\n",
      "3  iJLyR -0.032172  0.139033  2.978566  168.620776\n",
      "4  Xdl7t  1.988431  0.155413  4.751769  154.036647\n",
      "                  f0             f1             f2        product\n",
      "count  100000.000000  100000.000000  100000.000000  100000.000000\n",
      "mean        0.500419       0.250143       2.502647      92.500000\n",
      "std         0.871832       0.504433       3.248248      44.288691\n",
      "min        -1.408605      -0.848218     -12.088328       0.000000\n",
      "25%        -0.072580      -0.200881       0.287748      56.497507\n",
      "50%         0.502360       0.250252       2.515969      91.849972\n",
      "75%         1.073581       0.700646       4.715088     128.564089\n",
      "max         2.362331       1.343769      16.003790     185.364347\n",
      "               f0        f1        f2   product\n",
      "f0       1.000000 -0.440723 -0.003153  0.143536\n",
      "f1      -0.440723  1.000000  0.001724 -0.192356\n",
      "f2      -0.003153  0.001724  1.000000  0.483663\n",
      "product  0.143536 -0.192356  0.483663  1.000000\n"
     ]
    },
    {
     "data": {
      "text/plain": [
       "array([[<AxesSubplot:title={'center':'f0'}>,\n",
       "        <AxesSubplot:title={'center':'f1'}>],\n",
       "       [<AxesSubplot:title={'center':'f2'}>, <AxesSubplot:>]],\n",
       "      dtype=object)"
      ]
     },
     "execution_count": 5,
     "metadata": {},
     "output_type": "execute_result"
    },
    {
     "data": {
      "image/png": "[encoded data removed]",
      "text/plain": [
       "<Figure size 432x288 with 4 Axes>"
      ]
     },
     "metadata": {
      "needs_background": "light"
     },
     "output_type": "display_data"
    }
   ],
   "source": [
    "print('Первая локация')\n",
    "df_geo_0.info(verbose=True)\n",
    "print(df_geo_0.head())\n",
    "print(df_geo_0.describe())\n",
    "print(df_geo_0.corr())\n",
    "df_geo_0.drop(['product'],axis=1).hist()"
   ]
  },
  {
   "cell_type": "code",
   "execution_count": 6,
   "metadata": {},
   "outputs": [
    {
     "name": "stdout",
     "output_type": "stream",
     "text": [
      "Вторая локация\n",
      "<class 'pandas.core.frame.DataFrame'>\n",
      "RangeIndex: 100000 entries, 0 to 99999\n",
      "Data columns (total 5 columns):\n",
      " #   Column   Non-Null Count   Dtype  \n",
      "---  ------   --------------   -----  \n",
      " 0   id       100000 non-null  object \n",
      " 1   f0       100000 non-null  float64\n",
      " 2   f1       100000 non-null  float64\n",
      " 3   f2       100000 non-null  float64\n",
      " 4   product  100000 non-null  float64\n",
      "dtypes: float64(4), object(1)\n",
      "memory usage: 3.8+ MB\n",
      "      id         f0         f1        f2     product\n",
      "0  kBEdx -15.001348  -8.276000 -0.005876    3.179103\n",
      "1  62mP7  14.272088  -3.475083  0.999183   26.953261\n",
      "2  vyE1P   6.263187  -5.948386  5.001160  134.766305\n",
      "3  KcrkZ -13.081196 -11.506057  4.999415  137.945408\n",
      "4  AHL4O  12.702195  -8.147433  5.004363  134.766305\n",
      "                  f0             f1             f2        product\n",
      "count  100000.000000  100000.000000  100000.000000  100000.000000\n",
      "mean        1.141296      -4.796579       2.494541      68.825000\n",
      "std         8.965932       5.119872       1.703572      45.944423\n",
      "min       -31.609576     -26.358598      -0.018144       0.000000\n",
      "25%        -6.298551      -8.267985       1.000021      26.953261\n",
      "50%         1.153055      -4.813172       2.011479      57.085625\n",
      "75%         8.621015      -1.332816       3.999904     107.813044\n",
      "max        29.421755      18.734063       5.019721     137.945408\n",
      "               f0        f1        f2   product\n",
      "f0       1.000000  0.182287 -0.001777 -0.030491\n",
      "f1       0.182287  1.000000 -0.002595 -0.010155\n",
      "f2      -0.001777 -0.002595  1.000000  0.999397\n",
      "product -0.030491 -0.010155  0.999397  1.000000\n"
     ]
    },
    {
     "data": {
      "text/plain": [
       "array([[<AxesSubplot:title={'center':'f0'}>,\n",
       "        <AxesSubplot:title={'center':'f1'}>],\n",
       "       [<AxesSubplot:title={'center':'f2'}>, <AxesSubplot:>]],\n",
       "      dtype=object)"
      ]
     },
     "execution_count": 6,
     "metadata": {},
     "output_type": "execute_result"
    },
    {
     "data": {
      "image/png": "[encoded data removed]",
      "text/plain": [
       "<Figure size 432x288 with 4 Axes>"
      ]
     },
     "metadata": {
      "needs_background": "light"
     },
     "output_type": "display_data"
    }
   ],
   "source": [
    "print('Вторая локация')\n",
    "df_geo_1.info()\n",
    "print(df_geo_1.head())\n",
    "print(df_geo_1.describe())\n",
    "print(df_geo_1.corr())\n",
    "df_geo_1.drop(['product'],axis=1).hist()"
   ]
  },
  {
   "cell_type": "code",
   "execution_count": 7,
   "metadata": {},
   "outputs": [
    {
     "name": "stdout",
     "output_type": "stream",
     "text": [
      "Третья локация\n",
      "<class 'pandas.core.frame.DataFrame'>\n",
      "RangeIndex: 100000 entries, 0 to 99999\n",
      "Data columns (total 5 columns):\n",
      " #   Column   Non-Null Count   Dtype  \n",
      "---  ------   --------------   -----  \n",
      " 0   id       100000 non-null  object \n",
      " 1   f0       100000 non-null  float64\n",
      " 2   f1       100000 non-null  float64\n",
      " 3   f2       100000 non-null  float64\n",
      " 4   product  100000 non-null  float64\n",
      "dtypes: float64(4), object(1)\n",
      "memory usage: 3.8+ MB\n",
      "      id        f0        f1        f2     product\n",
      "0  fwXo0 -1.146987  0.963328 -0.828965   27.758673\n",
      "1  WJtFt  0.262778  0.269839 -2.530187   56.069697\n",
      "2  ovLUW  0.194587  0.289035 -5.586433   62.871910\n",
      "3  q6cA6  2.236060 -0.553760  0.930038  114.572842\n",
      "4  WPMUX -0.515993  1.716266  5.899011  149.600746\n",
      "                  f0             f1             f2        product\n",
      "count  100000.000000  100000.000000  100000.000000  100000.000000\n",
      "mean        0.002023      -0.002081       2.495128      95.000000\n",
      "std         1.732045       1.730417       3.473445      44.749921\n",
      "min        -8.760004      -7.084020     -11.970335       0.000000\n",
      "25%        -1.162288      -1.174820       0.130359      59.450441\n",
      "50%         0.009424      -0.009482       2.484236      94.925613\n",
      "75%         1.158535       1.163678       4.858794     130.595027\n",
      "max         7.238262       7.844801      16.739402     190.029838\n",
      "               f0        f1        f2   product\n",
      "f0       1.000000  0.000528 -0.000448 -0.001987\n",
      "f1       0.000528  1.000000  0.000779 -0.001012\n",
      "f2      -0.000448  0.000779  1.000000  0.445871\n",
      "product -0.001987 -0.001012  0.445871  1.000000\n"
     ]
    },
    {
     "data": {
      "text/plain": [
       "array([[<AxesSubplot:title={'center':'f0'}>,\n",
       "        <AxesSubplot:title={'center':'f1'}>],\n",
       "       [<AxesSubplot:title={'center':'f2'}>, <AxesSubplot:>]],\n",
       "      dtype=object)"
      ]
     },
     "execution_count": 7,
     "metadata": {},
     "output_type": "execute_result"
    },
    {
     "data": {
      "image/png": "[encoded data removed]",
      "text/plain": [
       "<Figure size 432x288 with 4 Axes>"
      ]
     },
     "metadata": {
      "needs_background": "light"
     },
     "output_type": "display_data"
    }
   ],
   "source": [
    "print('Третья локация')\n",
    "df_geo_2.info()\n",
    "print(df_geo_2.head())\n",
    "print(df_geo_2.describe())\n",
    "print(df_geo_2.corr())\n",
    "df_geo_2.drop(['product'],axis=1).hist()"
   ]
  },
  {
   "cell_type": "code",
   "execution_count": 8,
   "metadata": {},
   "outputs": [
    {
     "name": "stdout",
     "output_type": "stream",
     "text": [
      "Количество дубликатов в первой локации: 0\n",
      "Количество дубликатов во второй локации: 0\n",
      "Количество дубликатов в третей локации: 0\n"
     ]
    }
   ],
   "source": [
    "print(f'Количество дубликатов в первой локации: {df_geo_0.duplicated().sum()}')\n",
    "print(f'Количество дубликатов во второй локации: {df_geo_1.duplicated().sum()}')\n",
    "print(f'Количество дубликатов в третей локации: {df_geo_2.duplicated().sum()}')"
   ]
  },
  {
   "cell_type": "markdown",
   "metadata": {},
   "source": [
    "явных дублей нет"
   ]
  },
  {
   "cell_type": "markdown",
   "metadata": {},
   "source": [
    "### Вывод по первому пункту\n",
    "Данные были подгруженны \n",
    "* Месторождения будут не 0 начинаться а с первого (т.е df_geo_0 это первая локация)\n",
    "* Замеченно что параметр f2 коррелируем с продуктом ( 0.483, 0.999 и 0.445)\n",
    "* Явных дубликатов не было найденно\n",
    "* по построинным  гистограмма можно заметить что параметр F1  в  первой локации имеет наибольший разброс, а в третьей наименьший разброс (по данным можно сказать что вторая локация имеет средние параметры между двумя другими локациями(+ параметры распологаються нормальным распределением)) "
   ]
  },
  {
   "cell_type": "markdown",
   "metadata": {},
   "source": [
    "## Обучение и проверка модели"
   ]
  },
  {
   "cell_type": "code",
   "execution_count": 9,
   "metadata": {},
   "outputs": [],
   "source": [
    "df_train_0, df_valid_0 = train_test_split(df_geo_0, test_size=0.25, random_state=12345)\n",
    "df_train_1, df_valid_1 = train_test_split(df_geo_1, test_size=0.25, random_state=12345)\n",
    "df_train_2, df_valid_2 = train_test_split(df_geo_2, test_size=0.25, random_state=12345)\n",
    "\n",
    "feat_train_0 = df_train_0.drop(['id','product'],axis=1)\n",
    "tar_train_0 = df_train_0['product']\n",
    "feat_val_0 = df_valid_0.drop(['id','product'],axis=1)\n",
    "tar_val_0 = df_valid_0['product']\n",
    "\n",
    "feat_train_1 = df_train_1.drop(['id','product'],axis=1)\n",
    "tar_train_1 = df_train_1['product']\n",
    "feat_val_1 = df_valid_1.drop(['id','product'],axis=1)\n",
    "tar_val_1 = df_valid_1['product']\n",
    "\n",
    "feat_train_2 = df_train_2.drop(['id','product'],axis=1)\n",
    "tar_train_2 = df_train_2['product']\n",
    "feat_val_2 = df_valid_2.drop(['id','product'],axis=1)\n",
    "tar_val_2 = df_valid_2['product']\n"
   ]
  },
  {
   "cell_type": "code",
   "execution_count": 10,
   "metadata": {},
   "outputs": [
    {
     "name": "stdout",
     "output_type": "stream",
     "text": [
      "Значение RMSE для первой модели: 37.5794217150813\n",
      "Являющийся средний запас 92.079 предсказанный запас 92.593\n"
     ]
    }
   ],
   "source": [
    "model_0 = LinearRegression().fit(feat_train_0,tar_train_0)\n",
    "pred_0 = model_0.predict(feat_val_0)\n",
    "rmse_0 = mean_squared_error(tar_val_0,pred_0)**0.5\n",
    "print(f'Значение RMSE для первой модели: {rmse_0}')\n",
    "print(f'Являющийся средний запас {tar_val_0.mean():.5} предсказанный запас {pred_0.mean():.5}')"
   ]
  },
  {
   "cell_type": "code",
   "execution_count": 11,
   "metadata": {},
   "outputs": [
    {
     "name": "stdout",
     "output_type": "stream",
     "text": [
      "Значение RMSE для второй модели: 0.893099286775617\n",
      "Являющийся средний запас 68.723 предсказанный запас 68.729\n"
     ]
    }
   ],
   "source": [
    "model_1 = LinearRegression().fit(feat_train_1,tar_train_1)\n",
    "pred_1 = model_1.predict(feat_val_1)\n",
    "rmse_1 = mean_squared_error(tar_val_1,pred_1)**0.5\n",
    "print(f'Значение RMSE для второй модели: {rmse_1}')\n",
    "print(f'Являющийся средний запас {tar_val_1.mean():.5} предсказанный запас {pred_1.mean():.5}')"
   ]
  },
  {
   "cell_type": "code",
   "execution_count": 12,
   "metadata": {},
   "outputs": [
    {
     "name": "stdout",
     "output_type": "stream",
     "text": [
      "Значение RMSE для третьей модели: 40.02970873393434\n",
      "Являющийся средний запас 94.884 предсказанный запас 94.965\n"
     ]
    }
   ],
   "source": [
    "model_2 = LinearRegression().fit(feat_train_2,tar_train_2)\n",
    "pred_2 = model_2.predict(feat_val_2)\n",
    "rmse_2 = mean_squared_error(tar_val_2,pred_2)**0.5\n",
    "print(f'Значение RMSE для третьей модели: {rmse_2}')\n",
    "print(f'Являющийся средний запас {tar_val_2.mean():.5} предсказанный запас {pred_2.mean():.5}')"
   ]
  },
  {
   "cell_type": "markdown",
   "metadata": {},
   "source": [
    "### Вывод по второму пункту\n",
    "В данном пункте было:\n",
    "* Были разбиты данные на тренировочные и валидационные\n",
    "* обучена модель\n",
    "* Была расчитана среднеквадратическая ошибка модели (наилучшей являеться у второй модели, так как совершает меньше грубых ошибок)"
   ]
  },
  {
   "cell_type": "markdown",
   "metadata": {},
   "source": [
    "## Подготовка к расчёту прибыли"
   ]
  },
  {
   "cell_type": "code",
   "execution_count": 13,
   "metadata": {},
   "outputs": [
    {
     "name": "stdout",
     "output_type": "stream",
     "text": [
      "Точка безубыточности 111.1\n",
      "Объем безубыточного разработки новой скважины в первом месторождени 18.52\n",
      "Объем безубыточного разработки новой скважины во втором месторождени  42.38\n",
      "Объем безубыточного разработки новой скважины в третьем месторождени  16.15\n"
     ]
    }
   ],
   "source": [
    "col = 200\n",
    "balance = 10**10/col \n",
    "income = 450*10**3\n",
    "count = balance/income\n",
    "print(f'Точка безубыточности {count:.4}')\n",
    "print(f'Объем безубыточного разработки новой скважины в первом месторождени {count-pred_0.mean():.4}')\n",
    "print(f'Объем безубыточного разработки новой скважины во втором месторождени  {count-pred_1.mean():.4}')\n",
    "print(f'Объем безубыточного разработки новой скважины в третьем месторождени  {count-pred_2.mean():.4}')\n"
   ]
  },
  {
   "cell_type": "markdown",
   "metadata": {},
   "source": [
    "### Вывод по третьему пункту\n",
    "Как видно из точки безубыточности (111.1), в 3 месторождений в среднем по рпедсказанием нету свыше 111.1 баррели, но наибольшее значение показывает второе месторождение."
   ]
  },
  {
   "cell_type": "markdown",
   "metadata": {},
   "source": [
    "## Расчёт прибыли и рисков "
   ]
  },
  {
   "cell_type": "code",
   "execution_count": 14,
   "metadata": {},
   "outputs": [],
   "source": [
    "def series_type(target, pred):\n",
    "    target = target.reset_index(drop=True)\n",
    "    pred = pd.Series(pred)\n",
    "    return target, pred"
   ]
  },
  {
   "cell_type": "code",
   "execution_count": 15,
   "metadata": {},
   "outputs": [],
   "source": [
    "tar_val_0, pred_0 = series_type(tar_val_0, pred_0)\n",
    "tar_val_1, pred_1 = series_type(tar_val_1, pred_1)\n",
    "tar_val_2, pred_2 = series_type(tar_val_2, pred_2)"
   ]
  },
  {
   "cell_type": "code",
   "execution_count": 16,
   "metadata": {},
   "outputs": [],
   "source": [
    "def profit(target, predictions, srez=col,inc=income, count=count):\n",
    "    profit=0\n",
    "    probs_sorted = predictions.sort_values(ascending=False)[:srez] \n",
    "    selected = target[probs_sorted.index][:srez] \n",
    "    for top in selected:\n",
    "        profit+=(top-count)*inc\n",
    "    return profit\n",
    "\n",
    "prof_0 = profit(tar_val_0,pred_0)\n",
    "prof_1 = profit(tar_val_1,pred_1)\n",
    "prof_2 = profit(tar_val_2,pred_2)"
   ]
  },
  {
   "cell_type": "code",
   "execution_count": 17,
   "metadata": {
    "scrolled": true
   },
   "outputs": [
    {
     "name": "stdout",
     "output_type": "stream",
     "text": [
      "Прибыль для 200 лучших скважин первого региона 3320.8 млн. руб.\n",
      "Прибыль для 200 лучших скважин второго региона 2415.1 млн. руб.\n",
      "Прибыль для 200 лучших скважин третьего региона 2710.3 млн. руб.\n"
     ]
    }
   ],
   "source": [
    "print(f'Прибыль для {col} лучших скважин первого региона {prof_0/10**6:.5} млн. руб.')\n",
    "print(f'Прибыль для {col} лучших скважин второго региона {prof_1/10**6:.5} млн. руб.')\n",
    "print(f'Прибыль для {col} лучших скважин третьего региона {prof_2/10**6:.5} млн. руб.')"
   ]
  },
  {
   "cell_type": "code",
   "execution_count": 18,
   "metadata": {},
   "outputs": [],
   "source": [
    "# метод получения основных расчётных параметров с помощью будстрепа\n",
    "def bootstrap(target, predicted, anot=True, out=False ):\n",
    "    state = RandomState(12345)\n",
    "    values = []\n",
    "    for i in range(1000):\n",
    "        tar_sub_sam = target.sample(n = 500, replace=True, random_state=state)\n",
    "        pre_sub_sam = predicted[tar_sub_sam.index]\n",
    "        values.append(profit(tar_sub_sam, pre_sub_sam))\n",
    "        \n",
    "    values = pd.Series(values)\n",
    "    val_mean = values.mean()\n",
    "    low = values.quantile(q=0.025)\n",
    "    up = values.quantile(q=0.975)\n",
    "    risk = percentileofscore(values, 0)\n",
    "    if anot:\n",
    "        print('Для данного месторождения следующие показатели:')\n",
    "        print(f'Средне значение boostrap {round(val_mean/10**6,1)} млн.руб.')\n",
    "        print('Для 95%-й доверительный интервала')\n",
    "        print(f'Нижняя граница доверительного интервала {round(low/10**6,3)} млн.руб')\n",
    "        print(f'Верхняя граница доверительного интервала {round(up/10**6,3)} млн.руб')\n",
    "        print(f'Риск убытка для данного месторождения {risk}%')\n",
    "    if out:\n",
    "        return val_mean, low, up, risk"
   ]
  },
  {
   "cell_type": "code",
   "execution_count": 19,
   "metadata": {},
   "outputs": [
    {
     "name": "stdout",
     "output_type": "stream",
     "text": [
      "Для первого месторождения\n",
      "-------------------------\n",
      "Для данного месторождения следующие показатели:\n",
      "Средне значение boostrap 425.9 млн.руб.\n",
      "Для 95%-й доверительный интервала\n",
      "Нижняя граница доверительного интервала -102.09 млн.руб\n",
      "Верхняя граница доверительного интервала 947.976 млн.руб\n",
      "Риск убытка для данного месторождения 6.0%\n",
      "\n",
      "Для второго месторождения\n",
      "-------------------------\n",
      "Для данного месторождения следующие показатели:\n",
      "Средне значение boostrap 515.2 млн.руб.\n",
      "Для 95%-й доверительный интервала\n",
      "Нижняя граница доверительного интервала 68.873 млн.руб\n",
      "Верхняя граница доверительного интервала 931.548 млн.руб\n",
      "Риск убытка для данного месторождения 1.0%\n",
      "\n",
      "Для третьего месторождения\n",
      "-------------------------\n",
      "Для данного месторождения следующие показатели:\n",
      "Средне значение boostrap 435.0 млн.руб.\n",
      "Для 95%-й доверительный интервала\n",
      "Нижняя граница доверительного интервала -128.881 млн.руб\n",
      "Верхняя граница доверительного интервала 969.707 млн.руб\n",
      "Риск убытка для данного месторождения 6.4%\n"
     ]
    }
   ],
   "source": [
    "print(\"Для первого месторождения\")\n",
    "print(\"-------------------------\")\n",
    "bootstrap(tar_val_0,pred_0)\n",
    "print()\n",
    "print(\"Для второго месторождения\")\n",
    "print(\"-------------------------\")\n",
    "bootstrap(tar_val_1,pred_1)\n",
    "print()\n",
    "print(\"Для третьего месторождения\")\n",
    "print(\"-------------------------\")\n",
    "bootstrap(tar_val_2,pred_2)"
   ]
  },
  {
   "cell_type": "markdown",
   "metadata": {},
   "source": [
    "### Вывод\n",
    "В данной работе была произведенна выгрузка данных просмотренны зависимости, Обучена модель машинного обучения (линейная регрессия) и был прелдставлен прогноз на основе модели для 3 месторождений \n",
    "\n",
    "Из данных указанных выше можно заметить что наиболее выгодное месторождения являться второе (geo_data_1) Так как имеет наименьшие риски (1 процент) Наибольшая прибыль и доверительный интервал расположен в наименьшем диапозоне значений, а так же нижняя граница интервал не уходит в отрицательные значения\n"
   ]
  },
  {
   "cell_type": "markdown",
   "metadata": {},
   "source": [
    "## Чек-лист готовности проекта"
   ]
  },
  {
   "cell_type": "markdown",
   "metadata": {},
   "source": [
    "Поставьте 'x' в выполненных пунктах. Далее нажмите Shift+Enter."
   ]
  },
  {
   "cell_type": "markdown",
   "metadata": {},
   "source": [
    "- [x]  Jupyter Notebook открыт\n",
    "- [x]  Весь код выполняется без ошибок\n",
    "- [x]  Ячейки с кодом расположены в порядке исполнения\n",
    "- [x]  Выполнен шаг 1: данные подготовлены\n",
    "- [x]  Выполнен шаг 2: модели обучены и проверены\n",
    "    - [x]  Данные корректно разбиты на обучающую и валидационную выборки\n",
    "    - [x]  Модели обучены, предсказания сделаны\n",
    "    - [x]  Предсказания и правильные ответы на валидационной выборке сохранены\n",
    "    - [x]  На экране напечатаны результаты\n",
    "    - [x]  Сделаны выводы\n",
    "- [x]  Выполнен шаг 3: проведена подготовка к расчёту прибыли\n",
    "    - [x]  Для всех ключевых значений созданы константы Python\n",
    "    - [x]  Посчитано минимальное среднее количество продукта в месторождениях региона, достаточное для разработки\n",
    "    - [x]  По предыдущему пункту сделаны выводы\n",
    "    - [x]  Написана функция расчёта прибыли\n",
    "- [x]  Выполнен шаг 4: посчитаны риски и прибыль\n",
    "    - [x]  Проведена процедура *Bootstrap*\n",
    "    - [x]  Все параметры бутстрепа соответствуют условию\n",
    "    - [x]  Найдены все нужные величины\n",
    "    - [x]  Предложен регион для разработки месторождения\n",
    "    - [x]  Выбор региона обоснован"
   ]
  }
 ],
 "metadata": {
  "ExecuteTimeLog": [
   {
    "duration": 48,
    "start_time": "2022-11-16T13:20:21.875Z"
   },
   {
    "duration": 381,
    "start_time": "2022-11-16T13:20:27.023Z"
   },
   {
    "duration": 525,
    "start_time": "2022-11-16T13:20:28.801Z"
   },
   {
    "duration": 198,
    "start_time": "2022-11-16T13:20:30.351Z"
   },
   {
    "duration": 219,
    "start_time": "2022-11-16T13:20:31.708Z"
   },
   {
    "duration": 34,
    "start_time": "2022-11-16T13:20:33.415Z"
   },
   {
    "duration": 57,
    "start_time": "2022-11-16T13:22:13.156Z"
   },
   {
    "duration": 41,
    "start_time": "2022-11-16T13:25:06.772Z"
   },
   {
    "duration": 43,
    "start_time": "2022-11-16T13:25:35.797Z"
   },
   {
    "duration": 70,
    "start_time": "2022-11-16T14:48:00.599Z"
   },
   {
    "duration": 120,
    "start_time": "2022-11-16T14:49:07.119Z"
   },
   {
    "duration": 80,
    "start_time": "2022-11-16T14:51:44.240Z"
   },
   {
    "duration": 48,
    "start_time": "2022-11-16T14:52:02.131Z"
   },
   {
    "duration": 137,
    "start_time": "2022-11-16T14:52:29.268Z"
   },
   {
    "duration": 122,
    "start_time": "2022-11-16T14:52:57.931Z"
   },
   {
    "duration": 30,
    "start_time": "2022-11-16T14:56:02.407Z"
   },
   {
    "duration": 682,
    "start_time": "2022-11-16T14:56:41.716Z"
   },
   {
    "duration": 133,
    "start_time": "2022-11-16T14:56:42.400Z"
   },
   {
    "duration": 119,
    "start_time": "2022-11-16T14:56:42.628Z"
   },
   {
    "duration": 125,
    "start_time": "2022-11-16T14:56:43.027Z"
   },
   {
    "duration": 128,
    "start_time": "2022-11-16T14:56:43.388Z"
   },
   {
    "duration": 129,
    "start_time": "2022-11-16T14:56:43.517Z"
   },
   {
    "duration": 47,
    "start_time": "2022-11-16T14:56:45.308Z"
   },
   {
    "duration": 86,
    "start_time": "2022-11-16T14:58:54.652Z"
   },
   {
    "duration": 61,
    "start_time": "2022-11-16T14:59:05.383Z"
   },
   {
    "duration": 48,
    "start_time": "2022-11-16T14:59:15.817Z"
   },
   {
    "duration": 52,
    "start_time": "2022-11-16T15:00:12.175Z"
   },
   {
    "duration": 50,
    "start_time": "2022-11-16T15:00:18.493Z"
   },
   {
    "duration": 50,
    "start_time": "2022-11-16T15:00:26.881Z"
   },
   {
    "duration": 50,
    "start_time": "2022-11-16T15:00:42.924Z"
   },
   {
    "duration": 47,
    "start_time": "2022-11-16T15:02:15.887Z"
   },
   {
    "duration": 51,
    "start_time": "2022-11-16T15:02:43.344Z"
   },
   {
    "duration": 55,
    "start_time": "2022-11-16T15:02:47.496Z"
   },
   {
    "duration": 48,
    "start_time": "2022-11-16T15:02:50.153Z"
   },
   {
    "duration": 46,
    "start_time": "2022-11-16T15:03:02.928Z"
   },
   {
    "duration": 50,
    "start_time": "2022-11-16T15:03:06.803Z"
   },
   {
    "duration": 51,
    "start_time": "2022-11-16T15:03:08.992Z"
   },
   {
    "duration": 48,
    "start_time": "2022-11-16T15:03:34.537Z"
   },
   {
    "duration": 55,
    "start_time": "2022-11-16T15:03:36.969Z"
   },
   {
    "duration": 50,
    "start_time": "2022-11-16T15:03:39.017Z"
   },
   {
    "duration": 8,
    "start_time": "2022-11-16T15:06:01.813Z"
   },
   {
    "duration": 3,
    "start_time": "2022-11-16T15:06:06.885Z"
   },
   {
    "duration": 130,
    "start_time": "2022-11-16T15:06:07.293Z"
   },
   {
    "duration": 155,
    "start_time": "2022-11-16T15:06:07.641Z"
   },
   {
    "duration": 133,
    "start_time": "2022-11-16T15:06:07.973Z"
   },
   {
    "duration": 126,
    "start_time": "2022-11-16T15:06:08.278Z"
   },
   {
    "duration": 119,
    "start_time": "2022-11-16T15:06:08.749Z"
   },
   {
    "duration": 62,
    "start_time": "2022-11-16T15:06:10.375Z"
   },
   {
    "duration": 9,
    "start_time": "2022-11-16T15:06:11.204Z"
   },
   {
    "duration": 7,
    "start_time": "2022-11-16T15:06:34.380Z"
   },
   {
    "duration": 3,
    "start_time": "2022-11-16T15:07:08.745Z"
   },
   {
    "duration": 2,
    "start_time": "2022-11-16T15:07:10.901Z"
   },
   {
    "duration": 128,
    "start_time": "2022-11-16T15:07:11.248Z"
   },
   {
    "duration": 118,
    "start_time": "2022-11-16T15:07:11.561Z"
   },
   {
    "duration": 1130,
    "start_time": "2022-11-16T15:07:16.780Z"
   },
   {
    "duration": 136,
    "start_time": "2022-11-16T15:07:17.912Z"
   },
   {
    "duration": 121,
    "start_time": "2022-11-16T15:07:18.050Z"
   },
   {
    "duration": 137,
    "start_time": "2022-11-16T15:07:18.173Z"
   },
   {
    "duration": 151,
    "start_time": "2022-11-16T15:07:18.312Z"
   },
   {
    "duration": 143,
    "start_time": "2022-11-16T15:07:18.465Z"
   },
   {
    "duration": 56,
    "start_time": "2022-11-16T15:07:18.610Z"
   },
   {
    "duration": 12,
    "start_time": "2022-11-16T15:07:18.668Z"
   },
   {
    "duration": 115,
    "start_time": "2022-11-16T15:08:04.922Z"
   },
   {
    "duration": 14,
    "start_time": "2022-11-16T15:08:14.401Z"
   },
   {
    "duration": 15,
    "start_time": "2022-11-16T15:08:31.229Z"
   },
   {
    "duration": 12,
    "start_time": "2022-11-16T15:08:35.889Z"
   },
   {
    "duration": 12,
    "start_time": "2022-11-16T15:09:16.479Z"
   },
   {
    "duration": 4,
    "start_time": "2022-11-16T15:11:22.501Z"
   },
   {
    "duration": 21,
    "start_time": "2022-11-16T15:15:03.422Z"
   },
   {
    "duration": 14,
    "start_time": "2022-11-16T15:15:33.414Z"
   },
   {
    "duration": 15,
    "start_time": "2022-11-16T15:15:57.785Z"
   },
   {
    "duration": 15,
    "start_time": "2022-11-16T15:16:05.618Z"
   },
   {
    "duration": 14,
    "start_time": "2022-11-16T15:16:07.298Z"
   },
   {
    "duration": 13,
    "start_time": "2022-11-16T15:16:10.395Z"
   },
   {
    "duration": 23,
    "start_time": "2022-11-16T15:20:07.891Z"
   },
   {
    "duration": 9,
    "start_time": "2022-11-16T15:20:30.544Z"
   },
   {
    "duration": 14,
    "start_time": "2022-11-16T15:20:36.494Z"
   },
   {
    "duration": 21,
    "start_time": "2022-11-16T15:20:47.396Z"
   },
   {
    "duration": 15,
    "start_time": "2022-11-16T15:20:53.210Z"
   },
   {
    "duration": 15,
    "start_time": "2022-11-16T15:20:58.014Z"
   },
   {
    "duration": 17,
    "start_time": "2022-11-16T15:24:18.843Z"
   },
   {
    "duration": 51,
    "start_time": "2022-11-16T15:24:26.055Z"
   },
   {
    "duration": 4,
    "start_time": "2022-11-16T15:24:51.903Z"
   },
   {
    "duration": 4,
    "start_time": "2022-11-16T15:24:58.838Z"
   },
   {
    "duration": 14,
    "start_time": "2022-11-16T15:25:04.281Z"
   },
   {
    "duration": 15,
    "start_time": "2022-11-16T15:25:10.527Z"
   },
   {
    "duration": 14,
    "start_time": "2022-11-16T15:25:15.271Z"
   },
   {
    "duration": 14,
    "start_time": "2022-11-16T15:25:21.956Z"
   },
   {
    "duration": 15,
    "start_time": "2022-11-16T15:25:46.023Z"
   },
   {
    "duration": 15,
    "start_time": "2022-11-16T15:25:56.579Z"
   },
   {
    "duration": 14,
    "start_time": "2022-11-16T15:26:10.395Z"
   },
   {
    "duration": 50,
    "start_time": "2022-11-18T13:59:24.909Z"
   },
   {
    "duration": 999,
    "start_time": "2022-11-18T13:59:28.485Z"
   },
   {
    "duration": 371,
    "start_time": "2022-11-18T13:59:29.486Z"
   },
   {
    "duration": 184,
    "start_time": "2022-11-18T13:59:30.440Z"
   },
   {
    "duration": 193,
    "start_time": "2022-11-18T13:59:31.254Z"
   },
   {
    "duration": 63,
    "start_time": "2022-11-18T13:59:32.396Z"
   },
   {
    "duration": 53,
    "start_time": "2022-11-18T13:59:34.001Z"
   },
   {
    "duration": 42,
    "start_time": "2022-11-18T13:59:35.173Z"
   },
   {
    "duration": 116,
    "start_time": "2022-11-18T13:59:38.224Z"
   },
   {
    "duration": 34,
    "start_time": "2022-11-18T13:59:58.144Z"
   },
   {
    "duration": 13,
    "start_time": "2022-11-18T14:00:07.697Z"
   },
   {
    "duration": 61,
    "start_time": "2022-11-18T14:02:08.781Z"
   },
   {
    "duration": 53,
    "start_time": "2022-11-18T14:02:11.625Z"
   },
   {
    "duration": 25,
    "start_time": "2022-11-18T14:02:13.313Z"
   },
   {
    "duration": 15,
    "start_time": "2022-11-18T14:02:14.221Z"
   },
   {
    "duration": 14,
    "start_time": "2022-11-18T14:02:15.418Z"
   },
   {
    "duration": 3,
    "start_time": "2022-11-18T14:06:20.265Z"
   },
   {
    "duration": 4,
    "start_time": "2022-11-18T14:06:29.809Z"
   },
   {
    "duration": 3,
    "start_time": "2022-11-18T14:09:25.382Z"
   },
   {
    "duration": 4,
    "start_time": "2022-11-18T14:10:44.606Z"
   },
   {
    "duration": 4,
    "start_time": "2022-11-18T14:11:03.782Z"
   },
   {
    "duration": 5,
    "start_time": "2022-11-18T14:12:36.580Z"
   },
   {
    "duration": 4,
    "start_time": "2022-11-18T14:12:41.609Z"
   },
   {
    "duration": 4,
    "start_time": "2022-11-18T14:12:48.673Z"
   },
   {
    "duration": 4,
    "start_time": "2022-11-18T14:13:14.510Z"
   },
   {
    "duration": 5,
    "start_time": "2022-11-18T14:13:25.384Z"
   },
   {
    "duration": 4,
    "start_time": "2022-11-18T14:14:14.557Z"
   },
   {
    "duration": 3,
    "start_time": "2022-11-18T14:18:43.685Z"
   },
   {
    "duration": 6,
    "start_time": "2022-11-18T14:19:12.461Z"
   },
   {
    "duration": 4,
    "start_time": "2022-11-18T14:19:27.669Z"
   },
   {
    "duration": 10,
    "start_time": "2022-11-18T14:22:25.865Z"
   },
   {
    "duration": 9,
    "start_time": "2022-11-18T14:22:32.646Z"
   },
   {
    "duration": 3,
    "start_time": "2022-11-18T14:22:39.777Z"
   },
   {
    "duration": 11,
    "start_time": "2022-11-18T14:22:40.566Z"
   },
   {
    "duration": 45,
    "start_time": "2022-11-18T14:23:38.394Z"
   },
   {
    "duration": 15,
    "start_time": "2022-11-18T14:24:30.874Z"
   },
   {
    "duration": 67,
    "start_time": "2022-11-18T14:24:41.870Z"
   },
   {
    "duration": 16,
    "start_time": "2022-11-18T14:24:50.622Z"
   },
   {
    "duration": 18,
    "start_time": "2022-11-18T14:25:46.047Z"
   },
   {
    "duration": 3,
    "start_time": "2022-11-18T14:26:02.130Z"
   },
   {
    "duration": 12,
    "start_time": "2022-11-18T14:26:03.770Z"
   },
   {
    "duration": 3,
    "start_time": "2022-11-18T14:26:21.514Z"
   },
   {
    "duration": 11,
    "start_time": "2022-11-18T14:26:23.238Z"
   },
   {
    "duration": 21,
    "start_time": "2022-11-18T14:26:51.454Z"
   },
   {
    "duration": 20,
    "start_time": "2022-11-18T14:26:59.578Z"
   },
   {
    "duration": 3,
    "start_time": "2022-11-18T14:27:26.930Z"
   },
   {
    "duration": 12,
    "start_time": "2022-11-18T14:27:27.626Z"
   },
   {
    "duration": 50,
    "start_time": "2022-11-18T14:27:32.894Z"
   },
   {
    "duration": 3,
    "start_time": "2022-11-18T14:27:37.074Z"
   },
   {
    "duration": 11,
    "start_time": "2022-11-18T14:27:37.886Z"
   },
   {
    "duration": 11,
    "start_time": "2022-11-18T14:30:06.596Z"
   },
   {
    "duration": 4,
    "start_time": "2022-11-18T14:30:09.826Z"
   },
   {
    "duration": 12,
    "start_time": "2022-11-18T14:30:10.494Z"
   },
   {
    "duration": 58,
    "start_time": "2022-11-18T14:31:25.683Z"
   },
   {
    "duration": 18,
    "start_time": "2022-11-18T14:31:45.783Z"
   },
   {
    "duration": 5,
    "start_time": "2022-11-18T14:32:33.266Z"
   },
   {
    "duration": 8,
    "start_time": "2022-11-18T14:32:34.299Z"
   },
   {
    "duration": 12,
    "start_time": "2022-11-18T14:32:40.979Z"
   },
   {
    "duration": 3,
    "start_time": "2022-11-18T14:33:37.423Z"
   },
   {
    "duration": 12,
    "start_time": "2022-11-18T14:33:39.291Z"
   },
   {
    "duration": 11,
    "start_time": "2022-11-18T14:33:47.962Z"
   },
   {
    "duration": 3,
    "start_time": "2022-11-18T14:33:50.331Z"
   },
   {
    "duration": 12,
    "start_time": "2022-11-18T14:33:51.923Z"
   },
   {
    "duration": 6,
    "start_time": "2022-11-18T14:34:54.255Z"
   },
   {
    "duration": 12,
    "start_time": "2022-11-18T14:35:05.499Z"
   },
   {
    "duration": 9,
    "start_time": "2022-11-18T14:35:08.107Z"
   },
   {
    "duration": 3,
    "start_time": "2022-11-18T14:35:38.503Z"
   },
   {
    "duration": 5,
    "start_time": "2022-11-18T14:35:47.743Z"
   },
   {
    "duration": 4,
    "start_time": "2022-11-18T14:36:04.215Z"
   },
   {
    "duration": 4,
    "start_time": "2022-11-18T14:36:18.027Z"
   },
   {
    "duration": 5,
    "start_time": "2022-11-18T14:36:27.963Z"
   },
   {
    "duration": 4,
    "start_time": "2022-11-18T14:36:35.640Z"
   },
   {
    "duration": 45,
    "start_time": "2022-11-18T14:36:53.868Z"
   },
   {
    "duration": 3,
    "start_time": "2022-11-18T14:36:55.376Z"
   },
   {
    "duration": 47,
    "start_time": "2022-11-18T14:36:56.199Z"
   },
   {
    "duration": 12,
    "start_time": "2022-11-18T14:36:58.859Z"
   },
   {
    "duration": 3,
    "start_time": "2022-11-18T14:37:22.727Z"
   },
   {
    "duration": 6,
    "start_time": "2022-11-18T14:37:23.628Z"
   },
   {
    "duration": 3,
    "start_time": "2022-11-18T14:39:08.080Z"
   },
   {
    "duration": 7,
    "start_time": "2022-11-18T14:39:08.955Z"
   },
   {
    "duration": 2,
    "start_time": "2022-11-18T14:39:26.604Z"
   },
   {
    "duration": 13,
    "start_time": "2022-11-18T14:39:29.268Z"
   },
   {
    "duration": 3,
    "start_time": "2022-11-18T14:40:24.896Z"
   },
   {
    "duration": 7,
    "start_time": "2022-11-18T14:40:27.239Z"
   },
   {
    "duration": 3,
    "start_time": "2022-11-18T14:40:30.468Z"
   },
   {
    "duration": 5,
    "start_time": "2022-11-18T14:40:31.116Z"
   },
   {
    "duration": 9,
    "start_time": "2022-11-18T14:40:58.328Z"
   },
   {
    "duration": 3,
    "start_time": "2022-11-18T14:41:00.660Z"
   },
   {
    "duration": 5,
    "start_time": "2022-11-18T14:41:01.244Z"
   },
   {
    "duration": 21,
    "start_time": "2022-11-18T14:41:34.736Z"
   },
   {
    "duration": 3,
    "start_time": "2022-11-18T14:41:35.777Z"
   },
   {
    "duration": 18,
    "start_time": "2022-11-18T14:41:38.396Z"
   },
   {
    "duration": 3,
    "start_time": "2022-11-18T14:41:50.772Z"
   },
   {
    "duration": 18,
    "start_time": "2022-11-18T14:42:09.392Z"
   },
   {
    "duration": 3,
    "start_time": "2022-11-18T14:42:10.204Z"
   },
   {
    "duration": 17,
    "start_time": "2022-11-18T14:42:19.364Z"
   },
   {
    "duration": 4,
    "start_time": "2022-11-18T14:42:20.408Z"
   },
   {
    "duration": 19,
    "start_time": "2022-11-18T14:42:20.951Z"
   },
   {
    "duration": 18,
    "start_time": "2022-11-18T14:43:18.384Z"
   },
   {
    "duration": 3,
    "start_time": "2022-11-18T14:43:19.228Z"
   },
   {
    "duration": 18,
    "start_time": "2022-11-18T14:43:19.717Z"
   },
   {
    "duration": 4,
    "start_time": "2022-11-18T14:44:27.992Z"
   },
   {
    "duration": 17,
    "start_time": "2022-11-18T14:44:30.181Z"
   },
   {
    "duration": 3,
    "start_time": "2022-11-18T14:44:40.557Z"
   },
   {
    "duration": 21,
    "start_time": "2022-11-18T14:44:41.357Z"
   },
   {
    "duration": 20,
    "start_time": "2022-11-18T14:46:33.281Z"
   },
   {
    "duration": 9,
    "start_time": "2022-11-18T14:48:05.521Z"
   },
   {
    "duration": 9,
    "start_time": "2022-11-18T14:48:24.417Z"
   },
   {
    "duration": 14,
    "start_time": "2022-11-18T14:48:51.877Z"
   },
   {
    "duration": 8,
    "start_time": "2022-11-18T14:49:05.361Z"
   },
   {
    "duration": 9,
    "start_time": "2022-11-18T14:49:49.469Z"
   },
   {
    "duration": 1140,
    "start_time": "2022-11-18T14:50:02.674Z"
   },
   {
    "duration": 137,
    "start_time": "2022-11-18T14:50:03.816Z"
   },
   {
    "duration": 126,
    "start_time": "2022-11-18T14:50:03.955Z"
   },
   {
    "duration": 121,
    "start_time": "2022-11-18T14:50:04.083Z"
   },
   {
    "duration": 60,
    "start_time": "2022-11-18T14:50:04.206Z"
   },
   {
    "duration": 50,
    "start_time": "2022-11-18T14:50:04.267Z"
   },
   {
    "duration": 63,
    "start_time": "2022-11-18T14:50:04.319Z"
   },
   {
    "duration": 133,
    "start_time": "2022-11-18T14:50:04.384Z"
   },
   {
    "duration": 67,
    "start_time": "2022-11-18T14:50:04.519Z"
   },
   {
    "duration": 50,
    "start_time": "2022-11-18T14:50:04.588Z"
   },
   {
    "duration": 106,
    "start_time": "2022-11-18T14:50:04.640Z"
   },
   {
    "duration": 98,
    "start_time": "2022-11-18T14:50:04.748Z"
   },
   {
    "duration": 189,
    "start_time": "2022-11-18T14:50:04.849Z"
   },
   {
    "duration": 40,
    "start_time": "2022-11-18T14:50:05.039Z"
   },
   {
    "duration": 134,
    "start_time": "2022-11-18T14:50:05.080Z"
   },
   {
    "duration": 0,
    "start_time": "2022-11-18T14:50:05.216Z"
   },
   {
    "duration": 9,
    "start_time": "2022-11-18T14:50:11.889Z"
   },
   {
    "duration": 12,
    "start_time": "2022-11-18T14:53:33.229Z"
   },
   {
    "duration": 3,
    "start_time": "2022-11-18T14:58:05.394Z"
   },
   {
    "duration": 12,
    "start_time": "2022-11-18T14:58:09.053Z"
   },
   {
    "duration": 5,
    "start_time": "2022-11-18T14:58:26.998Z"
   },
   {
    "duration": 2,
    "start_time": "2022-11-18T14:59:18.422Z"
   },
   {
    "duration": 4,
    "start_time": "2022-11-18T15:01:02.434Z"
   },
   {
    "duration": 5,
    "start_time": "2022-11-18T15:03:40.858Z"
   },
   {
    "duration": 6,
    "start_time": "2022-11-18T15:03:50.214Z"
   },
   {
    "duration": 13,
    "start_time": "2022-11-18T15:05:31.282Z"
   },
   {
    "duration": 19,
    "start_time": "2022-11-18T15:06:12.374Z"
   },
   {
    "duration": 14,
    "start_time": "2022-11-18T15:06:13.282Z"
   },
   {
    "duration": 15,
    "start_time": "2022-11-18T15:06:14.082Z"
   },
   {
    "duration": 7,
    "start_time": "2022-11-18T15:06:15.290Z"
   },
   {
    "duration": 3,
    "start_time": "2022-11-18T15:06:16.682Z"
   },
   {
    "duration": 3,
    "start_time": "2022-11-18T15:06:17.510Z"
   },
   {
    "duration": 12,
    "start_time": "2022-11-18T15:06:18.126Z"
   },
   {
    "duration": 17,
    "start_time": "2022-11-18T15:07:01.498Z"
   },
   {
    "duration": 15,
    "start_time": "2022-11-18T15:07:02.843Z"
   },
   {
    "duration": 26,
    "start_time": "2022-11-18T15:07:03.626Z"
   },
   {
    "duration": 5,
    "start_time": "2022-11-18T15:07:05.458Z"
   },
   {
    "duration": 3,
    "start_time": "2022-11-18T15:07:06.950Z"
   },
   {
    "duration": 5,
    "start_time": "2022-11-18T15:07:08.386Z"
   },
   {
    "duration": 14,
    "start_time": "2022-11-18T15:07:08.946Z"
   },
   {
    "duration": 15,
    "start_time": "2022-11-18T15:07:40.162Z"
   },
   {
    "duration": 53,
    "start_time": "2022-11-18T15:08:07.418Z"
   },
   {
    "duration": 19,
    "start_time": "2022-11-18T15:08:10.806Z"
   },
   {
    "duration": 16,
    "start_time": "2022-11-18T15:08:28.278Z"
   },
   {
    "duration": 17,
    "start_time": "2022-11-18T15:08:37.183Z"
   },
   {
    "duration": 17,
    "start_time": "2022-11-18T15:08:49.542Z"
   },
   {
    "duration": 21,
    "start_time": "2022-11-18T15:09:06.348Z"
   },
   {
    "duration": 23,
    "start_time": "2022-11-18T15:09:12.011Z"
   },
   {
    "duration": 15,
    "start_time": "2022-11-18T15:09:36.627Z"
   },
   {
    "duration": 18,
    "start_time": "2022-11-18T15:09:57.823Z"
   },
   {
    "duration": 19,
    "start_time": "2022-11-18T15:10:33.098Z"
   },
   {
    "duration": 19,
    "start_time": "2022-11-18T15:10:42.142Z"
   },
   {
    "duration": 21,
    "start_time": "2022-11-18T15:10:49.122Z"
   },
   {
    "duration": 16,
    "start_time": "2022-11-18T15:11:10.755Z"
   },
   {
    "duration": 14,
    "start_time": "2022-11-18T15:11:11.646Z"
   },
   {
    "duration": 14,
    "start_time": "2022-11-18T15:11:12.938Z"
   },
   {
    "duration": 4,
    "start_time": "2022-11-18T15:11:13.787Z"
   },
   {
    "duration": 3,
    "start_time": "2022-11-18T15:11:15.326Z"
   },
   {
    "duration": 4,
    "start_time": "2022-11-18T15:11:16.311Z"
   },
   {
    "duration": 23,
    "start_time": "2022-11-18T15:11:16.771Z"
   },
   {
    "duration": 15,
    "start_time": "2022-11-18T15:11:59.046Z"
   },
   {
    "duration": 15,
    "start_time": "2022-11-18T15:12:03.015Z"
   },
   {
    "duration": 10,
    "start_time": "2022-11-18T15:14:36.059Z"
   },
   {
    "duration": 14,
    "start_time": "2022-11-18T15:14:38.735Z"
   },
   {
    "duration": 3,
    "start_time": "2022-11-18T15:14:39.444Z"
   },
   {
    "duration": 4,
    "start_time": "2022-11-18T15:15:41.506Z"
   },
   {
    "duration": 6,
    "start_time": "2022-11-18T15:15:56.655Z"
   },
   {
    "duration": 4,
    "start_time": "2022-11-18T15:16:07.515Z"
   },
   {
    "duration": 4,
    "start_time": "2022-11-18T15:16:16.447Z"
   },
   {
    "duration": 4,
    "start_time": "2022-11-18T15:16:21.503Z"
   },
   {
    "duration": 3,
    "start_time": "2022-11-18T15:16:26.391Z"
   },
   {
    "duration": 4,
    "start_time": "2022-11-18T15:16:32.995Z"
   },
   {
    "duration": 13,
    "start_time": "2022-11-18T15:18:59.324Z"
   },
   {
    "duration": 17,
    "start_time": "2022-11-18T15:19:09.199Z"
   },
   {
    "duration": 14,
    "start_time": "2022-11-18T15:20:05.935Z"
   },
   {
    "duration": 1389,
    "start_time": "2022-11-18T15:20:21.919Z"
   },
   {
    "duration": 9,
    "start_time": "2022-11-18T15:21:21.412Z"
   },
   {
    "duration": 10,
    "start_time": "2022-11-18T15:21:33.550Z"
   },
   {
    "duration": 10,
    "start_time": "2022-11-18T15:21:37.487Z"
   },
   {
    "duration": 3,
    "start_time": "2022-11-18T15:21:44.411Z"
   },
   {
    "duration": 3927,
    "start_time": "2022-11-18T15:21:51.564Z"
   },
   {
    "duration": 1305,
    "start_time": "2022-11-18T15:22:38.764Z"
   },
   {
    "duration": 3930,
    "start_time": "2022-11-18T15:22:53.884Z"
   },
   {
    "duration": 3749,
    "start_time": "2022-11-18T15:23:11.088Z"
   },
   {
    "duration": 3,
    "start_time": "2022-11-18T15:24:36.473Z"
   },
   {
    "duration": 4,
    "start_time": "2022-11-18T15:24:51.636Z"
   },
   {
    "duration": 15,
    "start_time": "2022-11-18T15:32:45.025Z"
   },
   {
    "duration": 5302,
    "start_time": "2022-11-18T15:32:55.601Z"
   },
   {
    "duration": 5362,
    "start_time": "2022-11-18T15:33:31.793Z"
   },
   {
    "duration": 1210,
    "start_time": "2022-11-18T15:34:03.273Z"
   },
   {
    "duration": 1234,
    "start_time": "2022-11-18T15:34:58.665Z"
   },
   {
    "duration": 5152,
    "start_time": "2022-11-18T15:35:21.465Z"
   },
   {
    "duration": 395,
    "start_time": "2022-11-18T15:35:48.717Z"
   },
   {
    "duration": 405,
    "start_time": "2022-11-18T15:36:09.109Z"
   },
   {
    "duration": 16,
    "start_time": "2022-11-18T15:42:33.022Z"
   },
   {
    "duration": 29,
    "start_time": "2022-11-18T15:42:49.042Z"
   },
   {
    "duration": 23,
    "start_time": "2022-11-18T15:43:28.802Z"
   },
   {
    "duration": 24,
    "start_time": "2022-11-18T15:44:13.398Z"
   },
   {
    "duration": 111,
    "start_time": "2022-11-18T15:44:35.782Z"
   },
   {
    "duration": 23,
    "start_time": "2022-11-18T15:44:53.594Z"
   },
   {
    "duration": 3982,
    "start_time": "2022-11-18T15:45:18.390Z"
   },
   {
    "duration": 3967,
    "start_time": "2022-11-18T15:47:00.367Z"
   },
   {
    "duration": 17,
    "start_time": "2022-11-18T15:47:49.698Z"
   },
   {
    "duration": 21,
    "start_time": "2022-11-18T15:47:58.266Z"
   },
   {
    "duration": 17,
    "start_time": "2022-11-18T15:48:25.926Z"
   },
   {
    "duration": 1056,
    "start_time": "2022-11-18T15:48:33.650Z"
   },
   {
    "duration": 145,
    "start_time": "2022-11-18T15:48:34.708Z"
   },
   {
    "duration": 138,
    "start_time": "2022-11-18T15:48:34.855Z"
   },
   {
    "duration": 126,
    "start_time": "2022-11-18T15:48:34.995Z"
   },
   {
    "duration": 64,
    "start_time": "2022-11-18T15:48:35.123Z"
   },
   {
    "duration": 68,
    "start_time": "2022-11-18T15:48:35.189Z"
   },
   {
    "duration": 54,
    "start_time": "2022-11-18T15:48:35.259Z"
   },
   {
    "duration": 146,
    "start_time": "2022-11-18T15:48:35.314Z"
   },
   {
    "duration": 55,
    "start_time": "2022-11-18T15:48:35.462Z"
   },
   {
    "duration": 29,
    "start_time": "2022-11-18T15:48:35.520Z"
   },
   {
    "duration": 189,
    "start_time": "2022-11-18T15:48:35.551Z"
   },
   {
    "duration": 197,
    "start_time": "2022-11-18T15:48:35.743Z"
   },
   {
    "duration": 126,
    "start_time": "2022-11-18T15:48:35.943Z"
   },
   {
    "duration": 65,
    "start_time": "2022-11-18T15:48:36.071Z"
   },
   {
    "duration": 34,
    "start_time": "2022-11-18T15:48:36.138Z"
   },
   {
    "duration": 140,
    "start_time": "2022-11-18T15:48:36.174Z"
   },
   {
    "duration": 0,
    "start_time": "2022-11-18T15:48:36.316Z"
   },
   {
    "duration": 0,
    "start_time": "2022-11-18T15:48:36.318Z"
   },
   {
    "duration": 13,
    "start_time": "2022-11-18T15:48:58.326Z"
   },
   {
    "duration": 3803,
    "start_time": "2022-11-18T15:49:58.102Z"
   },
   {
    "duration": 3232,
    "start_time": "2022-11-18T15:50:33.213Z"
   },
   {
    "duration": 1056,
    "start_time": "2022-11-18T15:59:22.796Z"
   },
   {
    "duration": 1102,
    "start_time": "2022-11-18T15:59:34.449Z"
   },
   {
    "duration": 3349,
    "start_time": "2022-11-18T15:59:40.555Z"
   },
   {
    "duration": 3365,
    "start_time": "2022-11-18T16:01:56.101Z"
   },
   {
    "duration": 3124,
    "start_time": "2022-11-18T16:02:36.638Z"
   },
   {
    "duration": 3161,
    "start_time": "2022-11-18T16:02:45.712Z"
   },
   {
    "duration": 3096,
    "start_time": "2022-11-18T16:03:38.497Z"
   },
   {
    "duration": 3241,
    "start_time": "2022-11-18T16:03:50.169Z"
   },
   {
    "duration": 1065,
    "start_time": "2022-11-18T16:05:07.093Z"
   },
   {
    "duration": 1165,
    "start_time": "2022-11-18T16:05:41.493Z"
   },
   {
    "duration": 1099,
    "start_time": "2022-11-18T16:05:52.537Z"
   },
   {
    "duration": 1184,
    "start_time": "2022-11-18T16:06:02.377Z"
   },
   {
    "duration": 3203,
    "start_time": "2022-11-18T16:06:07.089Z"
   },
   {
    "duration": 1123,
    "start_time": "2022-11-18T16:06:19.356Z"
   },
   {
    "duration": 3045,
    "start_time": "2022-11-18T16:06:32.901Z"
   },
   {
    "duration": 3260,
    "start_time": "2022-11-18T16:06:42.153Z"
   },
   {
    "duration": 3212,
    "start_time": "2022-11-18T16:06:47.065Z"
   },
   {
    "duration": 3212,
    "start_time": "2022-11-18T16:07:07.909Z"
   },
   {
    "duration": 3248,
    "start_time": "2022-11-18T16:07:56.349Z"
   },
   {
    "duration": 3160,
    "start_time": "2022-11-18T16:08:03.685Z"
   },
   {
    "duration": 3224,
    "start_time": "2022-11-18T16:08:12.313Z"
   },
   {
    "duration": 3002,
    "start_time": "2022-11-18T16:08:33.333Z"
   },
   {
    "duration": 3124,
    "start_time": "2022-11-18T16:08:52.833Z"
   },
   {
    "duration": 845,
    "start_time": "2022-11-18T17:52:51.020Z"
   },
   {
    "duration": 305,
    "start_time": "2022-11-18T17:53:14.055Z"
   },
   {
    "duration": 42,
    "start_time": "2022-11-18T17:53:42.385Z"
   },
   {
    "duration": 20,
    "start_time": "2022-11-18T17:53:57.744Z"
   },
   {
    "duration": 398,
    "start_time": "2022-11-18T17:54:06.452Z"
   },
   {
    "duration": 561,
    "start_time": "2022-11-18T17:54:28.600Z"
   },
   {
    "duration": 318,
    "start_time": "2022-11-18T17:54:38.968Z"
   },
   {
    "duration": 336,
    "start_time": "2022-11-18T17:54:50.476Z"
   },
   {
    "duration": 438,
    "start_time": "2022-11-18T17:54:57.100Z"
   },
   {
    "duration": 1108,
    "start_time": "2022-11-18T18:10:59.921Z"
   },
   {
    "duration": 143,
    "start_time": "2022-11-18T18:11:01.031Z"
   },
   {
    "duration": 122,
    "start_time": "2022-11-18T18:11:01.175Z"
   },
   {
    "duration": 127,
    "start_time": "2022-11-18T18:11:01.299Z"
   },
   {
    "duration": 564,
    "start_time": "2022-11-18T18:11:01.428Z"
   },
   {
    "duration": 343,
    "start_time": "2022-11-18T18:11:01.994Z"
   },
   {
    "duration": 403,
    "start_time": "2022-11-18T18:11:02.339Z"
   },
   {
    "duration": 113,
    "start_time": "2022-11-18T18:11:02.743Z"
   },
   {
    "duration": 123,
    "start_time": "2022-11-18T18:11:02.857Z"
   },
   {
    "duration": 56,
    "start_time": "2022-11-18T18:11:02.983Z"
   },
   {
    "duration": 105,
    "start_time": "2022-11-18T18:11:03.041Z"
   },
   {
    "duration": 194,
    "start_time": "2022-11-18T18:11:03.148Z"
   },
   {
    "duration": 188,
    "start_time": "2022-11-18T18:11:03.347Z"
   },
   {
    "duration": 9,
    "start_time": "2022-11-18T18:11:03.537Z"
   },
   {
    "duration": 7,
    "start_time": "2022-11-18T18:11:03.547Z"
   },
   {
    "duration": 29,
    "start_time": "2022-11-18T18:11:03.555Z"
   },
   {
    "duration": 4,
    "start_time": "2022-11-18T18:11:03.586Z"
   },
   {
    "duration": 11,
    "start_time": "2022-11-18T18:11:03.591Z"
   },
   {
    "duration": 3279,
    "start_time": "2022-11-18T18:11:03.604Z"
   },
   {
    "duration": 8,
    "start_time": "2022-11-18T18:11:52.422Z"
   },
   {
    "duration": 1201,
    "start_time": "2022-11-18T18:11:54.726Z"
   },
   {
    "duration": 6,
    "start_time": "2022-11-18T18:12:06.762Z"
   },
   {
    "duration": 2393,
    "start_time": "2022-11-18T18:12:08.690Z"
   },
   {
    "duration": 5,
    "start_time": "2022-11-18T18:12:33.830Z"
   },
   {
    "duration": 3219,
    "start_time": "2022-11-18T18:12:34.886Z"
   },
   {
    "duration": 3338,
    "start_time": "2022-11-18T18:12:52.554Z"
   },
   {
    "duration": 3473,
    "start_time": "2022-11-18T18:13:01.274Z"
   },
   {
    "duration": 1064,
    "start_time": "2022-11-18T18:13:23.674Z"
   },
   {
    "duration": 135,
    "start_time": "2022-11-18T18:13:24.740Z"
   },
   {
    "duration": 125,
    "start_time": "2022-11-18T18:13:24.876Z"
   },
   {
    "duration": 119,
    "start_time": "2022-11-18T18:13:25.003Z"
   },
   {
    "duration": 596,
    "start_time": "2022-11-18T18:13:25.124Z"
   },
   {
    "duration": 372,
    "start_time": "2022-11-18T18:13:25.721Z"
   },
   {
    "duration": 389,
    "start_time": "2022-11-18T18:13:26.094Z"
   },
   {
    "duration": 142,
    "start_time": "2022-11-18T18:13:26.485Z"
   },
   {
    "duration": 161,
    "start_time": "2022-11-18T18:13:26.635Z"
   },
   {
    "duration": 43,
    "start_time": "2022-11-18T18:13:26.801Z"
   },
   {
    "duration": 105,
    "start_time": "2022-11-18T18:13:26.847Z"
   },
   {
    "duration": 181,
    "start_time": "2022-11-18T18:13:26.955Z"
   },
   {
    "duration": 105,
    "start_time": "2022-11-18T18:13:27.139Z"
   },
   {
    "duration": 9,
    "start_time": "2022-11-18T18:13:27.247Z"
   },
   {
    "duration": 6,
    "start_time": "2022-11-18T18:13:27.258Z"
   },
   {
    "duration": 21,
    "start_time": "2022-11-18T18:13:27.267Z"
   },
   {
    "duration": 5,
    "start_time": "2022-11-18T18:13:27.290Z"
   },
   {
    "duration": 12,
    "start_time": "2022-11-18T18:13:27.297Z"
   },
   {
    "duration": 3216,
    "start_time": "2022-11-18T18:13:27.311Z"
   },
   {
    "duration": 1364,
    "start_time": "2022-11-19T06:47:02.712Z"
   },
   {
    "duration": 366,
    "start_time": "2022-11-19T06:47:04.078Z"
   },
   {
    "duration": 206,
    "start_time": "2022-11-19T06:47:04.446Z"
   },
   {
    "duration": 193,
    "start_time": "2022-11-19T06:47:04.654Z"
   },
   {
    "duration": 676,
    "start_time": "2022-11-19T06:47:04.848Z"
   },
   {
    "duration": 322,
    "start_time": "2022-11-19T06:47:05.526Z"
   },
   {
    "duration": 387,
    "start_time": "2022-11-19T06:47:05.850Z"
   },
   {
    "duration": 102,
    "start_time": "2022-11-19T06:47:06.238Z"
   },
   {
    "duration": 44,
    "start_time": "2022-11-19T06:47:06.341Z"
   },
   {
    "duration": 106,
    "start_time": "2022-11-19T06:47:06.397Z"
   },
   {
    "duration": 107,
    "start_time": "2022-11-19T06:47:06.505Z"
   },
   {
    "duration": 184,
    "start_time": "2022-11-19T06:47:06.614Z"
   },
   {
    "duration": 7,
    "start_time": "2022-11-19T06:47:06.800Z"
   },
   {
    "duration": 98,
    "start_time": "2022-11-19T06:47:06.808Z"
   },
   {
    "duration": 6,
    "start_time": "2022-11-19T06:47:06.907Z"
   },
   {
    "duration": 14,
    "start_time": "2022-11-19T06:47:06.915Z"
   },
   {
    "duration": 3,
    "start_time": "2022-11-19T06:47:06.930Z"
   },
   {
    "duration": 5,
    "start_time": "2022-11-19T06:47:06.935Z"
   },
   {
    "duration": 2979,
    "start_time": "2022-11-19T06:47:06.941Z"
   }
  ],
  "kernelspec": {
   "display_name": "Python 3 (ipykernel)",
   "language": "python",
   "name": "python3"
  },
  "language_info": {
   "codemirror_mode": {
    "name": "ipython",
    "version": 3
   },
   "file_extension": ".py",
   "mimetype": "text/x-python",
   "name": "python",
   "nbconvert_exporter": "python",
   "pygments_lexer": "ipython3",
   "version": "3.9.12"
  },
  "toc": {
   "base_numbering": 1,
   "nav_menu": {},
   "number_sections": true,
   "sideBar": true,
   "skip_h1_title": true,
   "title_cell": "Table of Contents",
   "title_sidebar": "Contents",
   "toc_cell": false,
   "toc_position": {},
   "toc_section_display": true,
   "toc_window_display": true
  }
 },
 "nbformat": 4,
 "nbformat_minor": 2
}
